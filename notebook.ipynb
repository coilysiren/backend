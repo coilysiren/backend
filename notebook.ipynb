{
 "cells": [
  {
   "cell_type": "code",
   "execution_count": 1,
   "id": "fea3ecb6-b18c-459d-84b2-1beb432077b4",
   "metadata": {},
   "outputs": [
    {
     "name": "stdout",
     "output_type": "stream",
     "text": [
      "\u001b[2m2025-04-02 21:50:54\u001b[0m [\u001b[32m\u001b[1minfo     \u001b[0m] \u001b[1mcache                         \u001b[0m \u001b[36madjective\u001b[0m=\u001b[35mhit\u001b[0m \u001b[36mkey\u001b[0m=\u001b[35mbsky.get-author-feed-text--zkat.tech\u001b[0m \u001b[36mprefix\u001b[0m=\u001b[35mbsky.get-author-feed-text-\u001b[0m \u001b[36msuffix\u001b[0m=\u001b[35mzkat.tech\u001b[0m\n",
      "cursor: 2025-03-31T23:05:51.421Z\n",
      "\u001b[2m2025-04-02 21:50:54\u001b[0m [\u001b[32m\u001b[1minfo     \u001b[0m] \u001b[1mcache                         \u001b[0m \u001b[36madjective\u001b[0m=\u001b[35mhit\u001b[0m \u001b[36mkey\u001b[0m=\u001b[35mbsky.get-author-feed-text-2025-03-31T23:05:51.421Z-zkat.tech\u001b[0m \u001b[36mprefix\u001b[0m=\u001b[35mbsky.get-author-feed-text-2025-03-31T23:05:51.421Z\u001b[0m \u001b[36msuffix\u001b[0m=\u001b[35mzkat.tech\u001b[0m\n",
      "cursor: 2025-03-30T20:25:49.755Z\n",
      "\u001b[2m2025-04-02 21:50:54\u001b[0m [\u001b[32m\u001b[1minfo     \u001b[0m] \u001b[1mcache                         \u001b[0m \u001b[36madjective\u001b[0m=\u001b[35mhit\u001b[0m \u001b[36mkey\u001b[0m=\u001b[35mbsky.get-author-feed-text-2025-03-30T20:25:49.755Z-zkat.tech\u001b[0m \u001b[36mprefix\u001b[0m=\u001b[35mbsky.get-author-feed-text-2025-03-30T20:25:49.755Z\u001b[0m \u001b[36msuffix\u001b[0m=\u001b[35mzkat.tech\u001b[0m\n",
      "cursor: 2025-03-26T00:46:08.42Z\n",
      "\u001b[2m2025-04-02 21:50:54\u001b[0m [\u001b[32m\u001b[1minfo     \u001b[0m] \u001b[1mcache                         \u001b[0m \u001b[36madjective\u001b[0m=\u001b[35mhit\u001b[0m \u001b[36mkey\u001b[0m=\u001b[35mbsky.get-author-feed-text-2025-03-26T00:46:08.42Z-zkat.tech\u001b[0m \u001b[36mprefix\u001b[0m=\u001b[35mbsky.get-author-feed-text-2025-03-26T00:46:08.42Z\u001b[0m \u001b[36msuffix\u001b[0m=\u001b[35mzkat.tech\u001b[0m\n",
      "cursor: 2025-03-23T06:03:20.358Z\n",
      "\u001b[2m2025-04-02 21:50:54\u001b[0m [\u001b[32m\u001b[1minfo     \u001b[0m] \u001b[1mcache                         \u001b[0m \u001b[36madjective\u001b[0m=\u001b[35mhit\u001b[0m \u001b[36mkey\u001b[0m=\u001b[35mbsky.get-author-feed-text-2025-03-23T06:03:20.358Z-zkat.tech\u001b[0m \u001b[36mprefix\u001b[0m=\u001b[35mbsky.get-author-feed-text-2025-03-23T06:03:20.358Z\u001b[0m \u001b[36msuffix\u001b[0m=\u001b[35mzkat.tech\u001b[0m\n",
      "cursor: 2025-03-18T22:49:44.159Z\n",
      "\u001b[2m2025-04-02 21:50:54\u001b[0m [\u001b[32m\u001b[1minfo     \u001b[0m] \u001b[1mcache                         \u001b[0m \u001b[36madjective\u001b[0m=\u001b[35mhit\u001b[0m \u001b[36mkey\u001b[0m=\u001b[35mbsky.get-author-feed-text-2025-03-18T22:49:44.159Z-zkat.tech\u001b[0m \u001b[36mprefix\u001b[0m=\u001b[35mbsky.get-author-feed-text-2025-03-18T22:49:44.159Z\u001b[0m \u001b[36msuffix\u001b[0m=\u001b[35mzkat.tech\u001b[0m\n",
      "cursor: 2025-03-14T16:26:04.152Z\n",
      "\u001b[2m2025-04-02 21:50:54\u001b[0m [\u001b[32m\u001b[1minfo     \u001b[0m] \u001b[1mcache                         \u001b[0m \u001b[36madjective\u001b[0m=\u001b[35mhit\u001b[0m \u001b[36mkey\u001b[0m=\u001b[35mbsky.get-author-feed-text-2025-03-14T16:26:04.152Z-zkat.tech\u001b[0m \u001b[36mprefix\u001b[0m=\u001b[35mbsky.get-author-feed-text-2025-03-14T16:26:04.152Z\u001b[0m \u001b[36msuffix\u001b[0m=\u001b[35mzkat.tech\u001b[0m\n",
      "cursor: 2025-03-10T17:31:46.601Z\n",
      "\u001b[2m2025-04-02 21:50:54\u001b[0m [\u001b[32m\u001b[1minfo     \u001b[0m] \u001b[1mcache                         \u001b[0m \u001b[36madjective\u001b[0m=\u001b[35mhit\u001b[0m \u001b[36mkey\u001b[0m=\u001b[35mbsky.get-author-feed-text-2025-03-10T17:31:46.601Z-zkat.tech\u001b[0m \u001b[36mprefix\u001b[0m=\u001b[35mbsky.get-author-feed-text-2025-03-10T17:31:46.601Z\u001b[0m \u001b[36msuffix\u001b[0m=\u001b[35mzkat.tech\u001b[0m\n",
      "cursor: 2025-03-05T16:39:20.151Z\n",
      "\u001b[2m2025-04-02 21:50:54\u001b[0m [\u001b[32m\u001b[1minfo     \u001b[0m] \u001b[1mcache                         \u001b[0m \u001b[36madjective\u001b[0m=\u001b[35mhit\u001b[0m \u001b[36mkey\u001b[0m=\u001b[35mbsky.get-author-feed-text-2025-03-05T16:39:20.151Z-zkat.tech\u001b[0m \u001b[36mprefix\u001b[0m=\u001b[35mbsky.get-author-feed-text-2025-03-05T16:39:20.151Z\u001b[0m \u001b[36msuffix\u001b[0m=\u001b[35mzkat.tech\u001b[0m\n",
      "cursor: 2025-03-03T06:23:20.323Z\n",
      "\u001b[2m2025-04-02 21:50:54\u001b[0m [\u001b[32m\u001b[1minfo     \u001b[0m] \u001b[1mcache                         \u001b[0m \u001b[36madjective\u001b[0m=\u001b[35mhit\u001b[0m \u001b[36mkey\u001b[0m=\u001b[35mbsky.get-author-feed-text-2025-03-03T06:23:20.323Z-zkat.tech\u001b[0m \u001b[36mprefix\u001b[0m=\u001b[35mbsky.get-author-feed-text-2025-03-03T06:23:20.323Z\u001b[0m \u001b[36msuffix\u001b[0m=\u001b[35mzkat.tech\u001b[0m\n",
      "cursor: 2025-03-01T01:47:43.779Z\n",
      "\u001b[2m2025-04-02 21:50:54\u001b[0m [\u001b[32m\u001b[1minfo     \u001b[0m] \u001b[1mcache                         \u001b[0m \u001b[36madjective\u001b[0m=\u001b[35mhit\u001b[0m \u001b[36mkey\u001b[0m=\u001b[35mbsky.get-author-feed-text-2025-03-01T01:47:43.779Z-zkat.tech\u001b[0m \u001b[36mprefix\u001b[0m=\u001b[35mbsky.get-author-feed-text-2025-03-01T01:47:43.779Z\u001b[0m \u001b[36msuffix\u001b[0m=\u001b[35mzkat.tech\u001b[0m\n",
      "cursor: 2025-02-26T03:18:35.677Z\n",
      "\u001b[2m2025-04-02 21:50:54\u001b[0m [\u001b[32m\u001b[1minfo     \u001b[0m] \u001b[1mcache                         \u001b[0m \u001b[36madjective\u001b[0m=\u001b[35mhit\u001b[0m \u001b[36mkey\u001b[0m=\u001b[35mbsky.get-author-feed-text-2025-02-26T03:18:35.677Z-zkat.tech\u001b[0m \u001b[36mprefix\u001b[0m=\u001b[35mbsky.get-author-feed-text-2025-02-26T03:18:35.677Z\u001b[0m \u001b[36msuffix\u001b[0m=\u001b[35mzkat.tech\u001b[0m\n",
      "cursor: 2025-02-22T06:30:50.683Z\n",
      "\u001b[2m2025-04-02 21:50:54\u001b[0m [\u001b[32m\u001b[1minfo     \u001b[0m] \u001b[1mcache                         \u001b[0m \u001b[36madjective\u001b[0m=\u001b[35mhit\u001b[0m \u001b[36mkey\u001b[0m=\u001b[35mbsky.get-author-feed-text-2025-02-22T06:30:50.683Z-zkat.tech\u001b[0m \u001b[36mprefix\u001b[0m=\u001b[35mbsky.get-author-feed-text-2025-02-22T06:30:50.683Z\u001b[0m \u001b[36msuffix\u001b[0m=\u001b[35mzkat.tech\u001b[0m\n",
      "cursor: 2025-02-21T05:06:48.523Z\n",
      "\u001b[2m2025-04-02 21:50:54\u001b[0m [\u001b[32m\u001b[1minfo     \u001b[0m] \u001b[1mcache                         \u001b[0m \u001b[36madjective\u001b[0m=\u001b[35mhit\u001b[0m \u001b[36mkey\u001b[0m=\u001b[35mbsky.get-author-feed-text-2025-02-21T05:06:48.523Z-zkat.tech\u001b[0m \u001b[36mprefix\u001b[0m=\u001b[35mbsky.get-author-feed-text-2025-02-21T05:06:48.523Z\u001b[0m \u001b[36msuffix\u001b[0m=\u001b[35mzkat.tech\u001b[0m\n",
      "cursor: 2025-02-18T23:27:56.163Z\n",
      "\u001b[2m2025-04-02 21:50:54\u001b[0m [\u001b[32m\u001b[1minfo     \u001b[0m] \u001b[1mcache                         \u001b[0m \u001b[36madjective\u001b[0m=\u001b[35mhit\u001b[0m \u001b[36mkey\u001b[0m=\u001b[35mbsky.get-author-feed-text-2025-02-18T23:27:56.163Z-zkat.tech\u001b[0m \u001b[36mprefix\u001b[0m=\u001b[35mbsky.get-author-feed-text-2025-02-18T23:27:56.163Z\u001b[0m \u001b[36msuffix\u001b[0m=\u001b[35mzkat.tech\u001b[0m\n",
      "cursor: 2025-02-16T07:14:28.531Z\n",
      "\u001b[2m2025-04-02 21:50:54\u001b[0m [\u001b[32m\u001b[1minfo     \u001b[0m] \u001b[1mcache                         \u001b[0m \u001b[36madjective\u001b[0m=\u001b[35mhit\u001b[0m \u001b[36mkey\u001b[0m=\u001b[35mbsky.get-author-feed-text-2025-02-16T07:14:28.531Z-zkat.tech\u001b[0m \u001b[36mprefix\u001b[0m=\u001b[35mbsky.get-author-feed-text-2025-02-16T07:14:28.531Z\u001b[0m \u001b[36msuffix\u001b[0m=\u001b[35mzkat.tech\u001b[0m\n",
      "cursor: 2025-02-14T10:12:25.115Z\n",
      "\u001b[2m2025-04-02 21:50:54\u001b[0m [\u001b[32m\u001b[1minfo     \u001b[0m] \u001b[1mcache                         \u001b[0m \u001b[36madjective\u001b[0m=\u001b[35mhit\u001b[0m \u001b[36mkey\u001b[0m=\u001b[35mbsky.get-author-feed-text-2025-02-14T10:12:25.115Z-zkat.tech\u001b[0m \u001b[36mprefix\u001b[0m=\u001b[35mbsky.get-author-feed-text-2025-02-14T10:12:25.115Z\u001b[0m \u001b[36msuffix\u001b[0m=\u001b[35mzkat.tech\u001b[0m\n",
      "cursor: 2025-02-11T20:03:37.836Z\n",
      "\u001b[2m2025-04-02 21:50:54\u001b[0m [\u001b[32m\u001b[1minfo     \u001b[0m] \u001b[1mcache                         \u001b[0m \u001b[36madjective\u001b[0m=\u001b[35mhit\u001b[0m \u001b[36mkey\u001b[0m=\u001b[35mbsky.get-author-feed-text-2025-02-11T20:03:37.836Z-zkat.tech\u001b[0m \u001b[36mprefix\u001b[0m=\u001b[35mbsky.get-author-feed-text-2025-02-11T20:03:37.836Z\u001b[0m \u001b[36msuffix\u001b[0m=\u001b[35mzkat.tech\u001b[0m\n",
      "cursor: 2025-02-10T07:18:25.916Z\n",
      "\u001b[2m2025-04-02 21:50:54\u001b[0m [\u001b[32m\u001b[1minfo     \u001b[0m] \u001b[1mcache                         \u001b[0m \u001b[36madjective\u001b[0m=\u001b[35mhit\u001b[0m \u001b[36mkey\u001b[0m=\u001b[35mbsky.get-author-feed-text-2025-02-10T07:18:25.916Z-zkat.tech\u001b[0m \u001b[36mprefix\u001b[0m=\u001b[35mbsky.get-author-feed-text-2025-02-10T07:18:25.916Z\u001b[0m \u001b[36msuffix\u001b[0m=\u001b[35mzkat.tech\u001b[0m\n",
      "cursor: 2025-02-09T00:06:27.535Z\n",
      "\u001b[2m2025-04-02 21:50:54\u001b[0m [\u001b[32m\u001b[1minfo     \u001b[0m] \u001b[1mcache                         \u001b[0m \u001b[36madjective\u001b[0m=\u001b[35mhit\u001b[0m \u001b[36mkey\u001b[0m=\u001b[35mbsky.get-author-feed-text-2025-02-09T00:06:27.535Z-zkat.tech\u001b[0m \u001b[36mprefix\u001b[0m=\u001b[35mbsky.get-author-feed-text-2025-02-09T00:06:27.535Z\u001b[0m \u001b[36msuffix\u001b[0m=\u001b[35mzkat.tech\u001b[0m\n",
      "cursor: 2025-02-05T23:47:51.655Z\n",
      "\u001b[2m2025-04-02 21:50:54\u001b[0m [\u001b[32m\u001b[1minfo     \u001b[0m] \u001b[1mcache                         \u001b[0m \u001b[36madjective\u001b[0m=\u001b[35mhit\u001b[0m \u001b[36mkey\u001b[0m=\u001b[35mbsky.get-author-feed-text-2025-02-05T23:47:51.655Z-zkat.tech\u001b[0m \u001b[36mprefix\u001b[0m=\u001b[35mbsky.get-author-feed-text-2025-02-05T23:47:51.655Z\u001b[0m \u001b[36msuffix\u001b[0m=\u001b[35mzkat.tech\u001b[0m\n",
      "cursor: 2025-02-02T06:36:44.1Z\n",
      "\u001b[2m2025-04-02 21:50:54\u001b[0m [\u001b[32m\u001b[1minfo     \u001b[0m] \u001b[1mcache                         \u001b[0m \u001b[36madjective\u001b[0m=\u001b[35mhit\u001b[0m \u001b[36mkey\u001b[0m=\u001b[35mbsky.get-author-feed-text-2025-02-02T06:36:44.1Z-zkat.tech\u001b[0m \u001b[36mprefix\u001b[0m=\u001b[35mbsky.get-author-feed-text-2025-02-02T06:36:44.1Z\u001b[0m \u001b[36msuffix\u001b[0m=\u001b[35mzkat.tech\u001b[0m\n",
      "cursor: 2025-01-22T20:23:32.633Z\n",
      "\u001b[2m2025-04-02 21:50:54\u001b[0m [\u001b[32m\u001b[1minfo     \u001b[0m] \u001b[1mcache                         \u001b[0m \u001b[36madjective\u001b[0m=\u001b[35mhit\u001b[0m \u001b[36mkey\u001b[0m=\u001b[35mbsky.get-author-feed-text-2025-01-22T20:23:32.633Z-zkat.tech\u001b[0m \u001b[36mprefix\u001b[0m=\u001b[35mbsky.get-author-feed-text-2025-01-22T20:23:32.633Z\u001b[0m \u001b[36msuffix\u001b[0m=\u001b[35mzkat.tech\u001b[0m\n",
      "cursor: 2025-01-20T17:57:27.662Z\n",
      "\u001b[2m2025-04-02 21:50:54\u001b[0m [\u001b[32m\u001b[1minfo     \u001b[0m] \u001b[1mcache                         \u001b[0m \u001b[36madjective\u001b[0m=\u001b[35mhit\u001b[0m \u001b[36mkey\u001b[0m=\u001b[35mbsky.get-author-feed-text-2025-01-20T17:57:27.662Z-zkat.tech\u001b[0m \u001b[36mprefix\u001b[0m=\u001b[35mbsky.get-author-feed-text-2025-01-20T17:57:27.662Z\u001b[0m \u001b[36msuffix\u001b[0m=\u001b[35mzkat.tech\u001b[0m\n",
      "cursor: 2025-01-15T06:36:46.66Z\n",
      "\u001b[2m2025-04-02 21:50:54\u001b[0m [\u001b[32m\u001b[1minfo     \u001b[0m] \u001b[1mcache                         \u001b[0m \u001b[36madjective\u001b[0m=\u001b[35mhit\u001b[0m \u001b[36mkey\u001b[0m=\u001b[35mbsky.get-author-feed-text-2025-01-15T06:36:46.66Z-zkat.tech\u001b[0m \u001b[36mprefix\u001b[0m=\u001b[35mbsky.get-author-feed-text-2025-01-15T06:36:46.66Z\u001b[0m \u001b[36msuffix\u001b[0m=\u001b[35mzkat.tech\u001b[0m\n",
      "cursor: 2025-01-09T01:19:20.419Z\n"
     ]
    }
   ],
   "source": [
    "import src.bsky\n",
    "\n",
    "bsky_client = src.bsky.init()\n",
    "\n",
    "text = \"\\n\".join(await src.bsky.get_author_feed_texts(bsky_client, \"zkat.tech\", 25))"
   ]
  },
  {
   "cell_type": "code",
   "execution_count": 2,
   "id": "9a2e779a-e10d-4eb8-8782-69d025ae739e",
   "metadata": {
    "scrolled": true
   },
   "outputs": [
    {
     "name": "stderr",
     "output_type": "stream",
     "text": [
      "[nltk_data] Downloading package stopwords to /Users/kai/nltk_data...\n",
      "[nltk_data]   Package stopwords is already up-to-date!\n"
     ]
    },
    {
     "data": {
      "text/plain": [
       "True"
      ]
     },
     "execution_count": 2,
     "metadata": {},
     "output_type": "execute_result"
    }
   ],
   "source": [
    "import nltk\n",
    "import nltk.corpus\n",
    "\n",
    "nltk.download('stopwords')"
   ]
  },
  {
   "cell_type": "code",
   "execution_count": 6,
   "id": "a0c839ec-3fce-411c-9424-93b69d859843",
   "metadata": {},
   "outputs": [],
   "source": [
    "import subprocess\n",
    "import spacy\n",
    "\n",
    "subprocess.run([\"spacy\", \"download\", \"en_core_web_md\"])\n",
    "nlp = spacy.load(\"en_core_web_md\")"
   ]
  },
  {
   "cell_type": "code",
   "execution_count": 18,
   "id": "6d9758ca-b768-49f2-94dc-7bb09d991eb0",
   "metadata": {},
   "outputs": [],
   "source": [
    "def remove_substring_entries(keyword_list):\n",
    "    # Sort by length of keyword (longest first), then by score (higher is better)\n",
    "    keyword_list.sort(key=lambda x: (-x[0], -len(x[1])))\n",
    "\n",
    "    filtered_keywords = []\n",
    "    seen_words = set()\n",
    "\n",
    "    for score, keyword in keyword_list:\n",
    "        words = set(keyword.split())  # Split phrase into individual words\n",
    "        if not any(word in seen_words for word in words):\n",
    "            filtered_keywords.append((keyword, score))\n",
    "            seen_words.update(words)  # Add words to seen set\n",
    "\n",
    "    return filtered_keywords"
   ]
  },
  {
   "cell_type": "code",
   "execution_count": 28,
   "id": "79d5f640-9a2d-4ba3-b7c2-af604970ec01",
   "metadata": {},
   "outputs": [
    {
     "name": "stdout",
     "output_type": "stream",
     "text": [
      "[(np.float64(0.007046598930693421), 'works'),\n",
      " (np.float64(0.00857653925811423), 'working'),\n",
      " (np.float64(0.0019044861974847086), 'work'),\n",
      " (np.float64(0.011116710600584122), 'trans women'),\n",
      " (np.float64(0.009199714526611918), 'trans folks'),\n",
      " (np.float64(0.0018313686854111164), 'trans'),\n",
      " (np.float64(0.011768474406249162), 'support'),\n",
      " (np.float64(0.007475204770805588), 'stop'),\n",
      " (np.float64(0.006475510666285818), 'shit'),\n",
      " (np.float64(0.005454958007732468), 'read'),\n",
      " (np.float64(0.0022323461434517046), 'qud'),\n",
      " (np.float64(0.0037484125965543493), 'love'),\n",
      " (np.float64(0.0018397245412873522), 'kdl'),\n",
      " (np.float64(0.008966890534985648), 'happy'),\n",
      " (np.float64(0.006756965348768421), 'github.com'),\n",
      " (np.float64(0.005601332796875475), 'games'),\n",
      " (np.float64(0.003907906602471261), 'game'),\n",
      " (np.float64(0.008566847834624906), 'fucking'),\n",
      " (np.float64(0.005695109769212732), 'folks'),\n",
      " (np.float64(0.007460883475051705), 'finally'),\n",
      " (np.float64(0.000613928276659871), 'caves of qud'),\n",
      " (np.float64(0.0026718938237978284), 'caves'),\n",
      " (np.float64(0.011689955855671173), 'book'),\n",
      " (np.float64(0.011434447672331862), 'artists'),\n",
      " (np.float64(0.0024834695777237376), 'art')]\n",
      "None\n",
      "[('support', np.float64(0.011768474406249162)),\n",
      " ('book', np.float64(0.011689955855671173)),\n",
      " ('artists', np.float64(0.011434447672331862)),\n",
      " ('trans women', np.float64(0.011116710600584122)),\n",
      " ('happy', np.float64(0.008966890534985648)),\n",
      " ('working', np.float64(0.00857653925811423)),\n",
      " ('fucking', np.float64(0.008566847834624906)),\n",
      " ('stop', np.float64(0.007475204770805588)),\n",
      " ('finally', np.float64(0.007460883475051705)),\n",
      " ('works', np.float64(0.007046598930693421)),\n",
      " ('github.com', np.float64(0.006756965348768421)),\n",
      " ('shit', np.float64(0.006475510666285818)),\n",
      " ('folks', np.float64(0.005695109769212732)),\n",
      " ('games', np.float64(0.005601332796875475)),\n",
      " ('read', np.float64(0.005454958007732468)),\n",
      " ('game', np.float64(0.003907906602471261)),\n",
      " ('love', np.float64(0.0037484125965543493)),\n",
      " ('caves', np.float64(0.0026718938237978284)),\n",
      " ('art', np.float64(0.0024834695777237376)),\n",
      " ('qud', np.float64(0.0022323461434517046)),\n",
      " ('work', np.float64(0.0019044861974847086)),\n",
      " ('kdl', np.float64(0.0018397245412873522))]\n",
      "None\n",
      "[('support', np.float64(0.011768474406249162)),\n",
      " ('book', np.float64(0.011689955855671173)),\n",
      " ('artists', np.float64(0.011434447672331862)),\n",
      " ('trans women', np.float64(0.011116710600584122)),\n",
      " ('happy', np.float64(0.008966890534985648))]\n",
      "None\n"
     ]
    }
   ],
   "source": [
    "import yake\n",
    "import nltk\n",
    "import nltk.corpus\n",
    "import spacy\n",
    "import yaml\n",
    "import pprint\n",
    "\n",
    "with open(\"stopwords.yml\", \"r\") as _file:\n",
    "    custom_stopwords = yaml.load(_file, yaml.Loader)\n",
    "\n",
    "yake_kw_extractor = yake.KeywordExtractor(\n",
    "    lan=\"en\",\n",
    "    top=25,\n",
    "    dedupLim=1,\n",
    "    stopwords=set(nltk.corpus.stopwords.words(\"english\") + list(nlp.Defaults.stop_words) + custom_stopwords)\n",
    ")\n",
    "keywords = yake_kw_extractor.extract_keywords(text.lower())\n",
    "keywords = list(reversed(sorted(keywords, key=lambda x: x[1])))\n",
    "\n",
    "print(pprint.pprint(keywords))\n",
    "\n",
    "keywords = remove_substring_entries(keywords)\n",
    "\n",
    "print(pprint.pprint(keywords))\n",
    "\n",
    "keywords = keywords[:5]\n",
    "\n",
    "print(pprint.pprint(keywords))\n"
   ]
  },
  {
   "cell_type": "code",
   "execution_count": null,
   "id": "506ce211-2715-43d1-b4ea-3a41364f2105",
   "metadata": {},
   "outputs": [
    {
     "name": "stdout",
     "output_type": "stream",
     "text": [
      "progress: 1 out of 5\n"
     ]
    }
   ],
   "source": [
    "import spacy\n",
    "import json\n",
    "\n",
    "with open(\"emojis.json\", \"r\") as _file:\n",
    "    emojis = json.loads(_file.read())\n",
    "\n",
    "emoji_scores = []\n",
    "\n",
    "i = 1\n",
    "for keyword in keywords:\n",
    "    print(f\"progress: {i} out of {len(keywords)}\")\n",
    "    _keyword = nlp(keyword[0])\n",
    "    keyword_scores = []\n",
    "    \n",
    "    for emoji in emojis:\n",
    "        _emoji = nlp(emoji[\"description\"])\n",
    "        keyword_score = keyword[1]\n",
    "        emoji_score = _keyword.similarity(_emoji) * keyword_score\n",
    "        keyword_scores.append([_keyword, emoji_score])\n",
    "\n",
    "    print(keyword_scores[0])\n",
    "    print(keyword_scores[-1])\n",
    "    keyword_scores.sort(key = lambda x: -x[1])\n",
    "    emoji_scores.append(keyword_scores[0])\n",
    "    i += 1\n",
    "\n",
    "emoji_scores.sort(key = lambda x: -x[1])"
   ]
  },
  {
   "cell_type": "code",
   "execution_count": null,
   "id": "00dcf67d-ce2e-4c5e-89c2-b934af2eb155",
   "metadata": {},
   "outputs": [],
   "source": []
  }
 ],
 "metadata": {
  "kernelspec": {
   "display_name": "Python 3 (ipykernel)",
   "language": "python",
   "name": "python3"
  },
  "language_info": {
   "codemirror_mode": {
    "name": "ipython",
    "version": 3
   },
   "file_extension": ".py",
   "mimetype": "text/x-python",
   "name": "python",
   "nbconvert_exporter": "python",
   "pygments_lexer": "ipython3",
   "version": "3.12.7"
  }
 },
 "nbformat": 4,
 "nbformat_minor": 5
}
