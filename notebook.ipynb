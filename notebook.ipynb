{
 "cells": [
  {
   "cell_type": "code",
   "execution_count": 1,
   "id": "fea3ecb6-b18c-459d-84b2-1beb432077b4",
   "metadata": {},
   "outputs": [
    {
     "name": "stdout",
     "output_type": "stream",
     "text": [
      "\u001b[2m2025-04-02 22:57:49\u001b[0m [\u001b[32m\u001b[1minfo     \u001b[0m] \u001b[1mcache                         \u001b[0m \u001b[36madjective\u001b[0m=\u001b[35mhit\u001b[0m \u001b[36mkey\u001b[0m=\u001b[35mbsky.get-author-feed-text--zkat.tech\u001b[0m \u001b[36mprefix\u001b[0m=\u001b[35mbsky.get-author-feed-text-\u001b[0m \u001b[36msuffix\u001b[0m=\u001b[35mzkat.tech\u001b[0m\n",
      "cursor: 2025-03-31T23:05:51.421Z\n",
      "\u001b[2m2025-04-02 22:57:49\u001b[0m [\u001b[32m\u001b[1minfo     \u001b[0m] \u001b[1mcache                         \u001b[0m \u001b[36madjective\u001b[0m=\u001b[35mhit\u001b[0m \u001b[36mkey\u001b[0m=\u001b[35mbsky.get-author-feed-text-2025-03-31T23:05:51.421Z-zkat.tech\u001b[0m \u001b[36mprefix\u001b[0m=\u001b[35mbsky.get-author-feed-text-2025-03-31T23:05:51.421Z\u001b[0m \u001b[36msuffix\u001b[0m=\u001b[35mzkat.tech\u001b[0m\n",
      "cursor: 2025-03-30T20:25:49.755Z\n",
      "\u001b[2m2025-04-02 22:57:49\u001b[0m [\u001b[32m\u001b[1minfo     \u001b[0m] \u001b[1mcache                         \u001b[0m \u001b[36madjective\u001b[0m=\u001b[35mhit\u001b[0m \u001b[36mkey\u001b[0m=\u001b[35mbsky.get-author-feed-text-2025-03-30T20:25:49.755Z-zkat.tech\u001b[0m \u001b[36mprefix\u001b[0m=\u001b[35mbsky.get-author-feed-text-2025-03-30T20:25:49.755Z\u001b[0m \u001b[36msuffix\u001b[0m=\u001b[35mzkat.tech\u001b[0m\n",
      "cursor: 2025-03-26T00:46:08.42Z\n",
      "\u001b[2m2025-04-02 22:57:49\u001b[0m [\u001b[32m\u001b[1minfo     \u001b[0m] \u001b[1mcache                         \u001b[0m \u001b[36madjective\u001b[0m=\u001b[35mhit\u001b[0m \u001b[36mkey\u001b[0m=\u001b[35mbsky.get-author-feed-text-2025-03-26T00:46:08.42Z-zkat.tech\u001b[0m \u001b[36mprefix\u001b[0m=\u001b[35mbsky.get-author-feed-text-2025-03-26T00:46:08.42Z\u001b[0m \u001b[36msuffix\u001b[0m=\u001b[35mzkat.tech\u001b[0m\n",
      "cursor: 2025-03-23T06:03:20.358Z\n",
      "\u001b[2m2025-04-02 22:57:49\u001b[0m [\u001b[32m\u001b[1minfo     \u001b[0m] \u001b[1mcache                         \u001b[0m \u001b[36madjective\u001b[0m=\u001b[35mhit\u001b[0m \u001b[36mkey\u001b[0m=\u001b[35mbsky.get-author-feed-text-2025-03-23T06:03:20.358Z-zkat.tech\u001b[0m \u001b[36mprefix\u001b[0m=\u001b[35mbsky.get-author-feed-text-2025-03-23T06:03:20.358Z\u001b[0m \u001b[36msuffix\u001b[0m=\u001b[35mzkat.tech\u001b[0m\n",
      "cursor: 2025-03-18T22:49:44.159Z\n",
      "\u001b[2m2025-04-02 22:57:49\u001b[0m [\u001b[32m\u001b[1minfo     \u001b[0m] \u001b[1mcache                         \u001b[0m \u001b[36madjective\u001b[0m=\u001b[35mhit\u001b[0m \u001b[36mkey\u001b[0m=\u001b[35mbsky.get-author-feed-text-2025-03-18T22:49:44.159Z-zkat.tech\u001b[0m \u001b[36mprefix\u001b[0m=\u001b[35mbsky.get-author-feed-text-2025-03-18T22:49:44.159Z\u001b[0m \u001b[36msuffix\u001b[0m=\u001b[35mzkat.tech\u001b[0m\n",
      "cursor: 2025-03-14T16:26:04.152Z\n",
      "\u001b[2m2025-04-02 22:57:49\u001b[0m [\u001b[32m\u001b[1minfo     \u001b[0m] \u001b[1mcache                         \u001b[0m \u001b[36madjective\u001b[0m=\u001b[35mhit\u001b[0m \u001b[36mkey\u001b[0m=\u001b[35mbsky.get-author-feed-text-2025-03-14T16:26:04.152Z-zkat.tech\u001b[0m \u001b[36mprefix\u001b[0m=\u001b[35mbsky.get-author-feed-text-2025-03-14T16:26:04.152Z\u001b[0m \u001b[36msuffix\u001b[0m=\u001b[35mzkat.tech\u001b[0m\n",
      "cursor: 2025-03-10T17:31:46.601Z\n",
      "\u001b[2m2025-04-02 22:57:49\u001b[0m [\u001b[32m\u001b[1minfo     \u001b[0m] \u001b[1mcache                         \u001b[0m \u001b[36madjective\u001b[0m=\u001b[35mhit\u001b[0m \u001b[36mkey\u001b[0m=\u001b[35mbsky.get-author-feed-text-2025-03-10T17:31:46.601Z-zkat.tech\u001b[0m \u001b[36mprefix\u001b[0m=\u001b[35mbsky.get-author-feed-text-2025-03-10T17:31:46.601Z\u001b[0m \u001b[36msuffix\u001b[0m=\u001b[35mzkat.tech\u001b[0m\n",
      "cursor: 2025-03-05T16:39:20.151Z\n",
      "\u001b[2m2025-04-02 22:57:49\u001b[0m [\u001b[32m\u001b[1minfo     \u001b[0m] \u001b[1mcache                         \u001b[0m \u001b[36madjective\u001b[0m=\u001b[35mhit\u001b[0m \u001b[36mkey\u001b[0m=\u001b[35mbsky.get-author-feed-text-2025-03-05T16:39:20.151Z-zkat.tech\u001b[0m \u001b[36mprefix\u001b[0m=\u001b[35mbsky.get-author-feed-text-2025-03-05T16:39:20.151Z\u001b[0m \u001b[36msuffix\u001b[0m=\u001b[35mzkat.tech\u001b[0m\n",
      "cursor: 2025-03-03T06:23:20.323Z\n",
      "\u001b[2m2025-04-02 22:57:49\u001b[0m [\u001b[32m\u001b[1minfo     \u001b[0m] \u001b[1mcache                         \u001b[0m \u001b[36madjective\u001b[0m=\u001b[35mhit\u001b[0m \u001b[36mkey\u001b[0m=\u001b[35mbsky.get-author-feed-text-2025-03-03T06:23:20.323Z-zkat.tech\u001b[0m \u001b[36mprefix\u001b[0m=\u001b[35mbsky.get-author-feed-text-2025-03-03T06:23:20.323Z\u001b[0m \u001b[36msuffix\u001b[0m=\u001b[35mzkat.tech\u001b[0m\n",
      "cursor: 2025-03-01T01:47:43.779Z\n",
      "\u001b[2m2025-04-02 22:57:49\u001b[0m [\u001b[32m\u001b[1minfo     \u001b[0m] \u001b[1mcache                         \u001b[0m \u001b[36madjective\u001b[0m=\u001b[35mhit\u001b[0m \u001b[36mkey\u001b[0m=\u001b[35mbsky.get-author-feed-text-2025-03-01T01:47:43.779Z-zkat.tech\u001b[0m \u001b[36mprefix\u001b[0m=\u001b[35mbsky.get-author-feed-text-2025-03-01T01:47:43.779Z\u001b[0m \u001b[36msuffix\u001b[0m=\u001b[35mzkat.tech\u001b[0m\n",
      "cursor: 2025-02-26T03:18:35.677Z\n",
      "\u001b[2m2025-04-02 22:57:49\u001b[0m [\u001b[32m\u001b[1minfo     \u001b[0m] \u001b[1mcache                         \u001b[0m \u001b[36madjective\u001b[0m=\u001b[35mhit\u001b[0m \u001b[36mkey\u001b[0m=\u001b[35mbsky.get-author-feed-text-2025-02-26T03:18:35.677Z-zkat.tech\u001b[0m \u001b[36mprefix\u001b[0m=\u001b[35mbsky.get-author-feed-text-2025-02-26T03:18:35.677Z\u001b[0m \u001b[36msuffix\u001b[0m=\u001b[35mzkat.tech\u001b[0m\n",
      "cursor: 2025-02-22T06:30:50.683Z\n",
      "\u001b[2m2025-04-02 22:57:49\u001b[0m [\u001b[32m\u001b[1minfo     \u001b[0m] \u001b[1mcache                         \u001b[0m \u001b[36madjective\u001b[0m=\u001b[35mhit\u001b[0m \u001b[36mkey\u001b[0m=\u001b[35mbsky.get-author-feed-text-2025-02-22T06:30:50.683Z-zkat.tech\u001b[0m \u001b[36mprefix\u001b[0m=\u001b[35mbsky.get-author-feed-text-2025-02-22T06:30:50.683Z\u001b[0m \u001b[36msuffix\u001b[0m=\u001b[35mzkat.tech\u001b[0m\n",
      "cursor: 2025-02-21T05:06:48.523Z\n",
      "\u001b[2m2025-04-02 22:57:49\u001b[0m [\u001b[32m\u001b[1minfo     \u001b[0m] \u001b[1mcache                         \u001b[0m \u001b[36madjective\u001b[0m=\u001b[35mhit\u001b[0m \u001b[36mkey\u001b[0m=\u001b[35mbsky.get-author-feed-text-2025-02-21T05:06:48.523Z-zkat.tech\u001b[0m \u001b[36mprefix\u001b[0m=\u001b[35mbsky.get-author-feed-text-2025-02-21T05:06:48.523Z\u001b[0m \u001b[36msuffix\u001b[0m=\u001b[35mzkat.tech\u001b[0m\n",
      "cursor: 2025-02-18T23:27:56.163Z\n",
      "\u001b[2m2025-04-02 22:57:49\u001b[0m [\u001b[32m\u001b[1minfo     \u001b[0m] \u001b[1mcache                         \u001b[0m \u001b[36madjective\u001b[0m=\u001b[35mhit\u001b[0m \u001b[36mkey\u001b[0m=\u001b[35mbsky.get-author-feed-text-2025-02-18T23:27:56.163Z-zkat.tech\u001b[0m \u001b[36mprefix\u001b[0m=\u001b[35mbsky.get-author-feed-text-2025-02-18T23:27:56.163Z\u001b[0m \u001b[36msuffix\u001b[0m=\u001b[35mzkat.tech\u001b[0m\n",
      "cursor: 2025-02-16T07:14:28.531Z\n",
      "\u001b[2m2025-04-02 22:57:49\u001b[0m [\u001b[32m\u001b[1minfo     \u001b[0m] \u001b[1mcache                         \u001b[0m \u001b[36madjective\u001b[0m=\u001b[35mhit\u001b[0m \u001b[36mkey\u001b[0m=\u001b[35mbsky.get-author-feed-text-2025-02-16T07:14:28.531Z-zkat.tech\u001b[0m \u001b[36mprefix\u001b[0m=\u001b[35mbsky.get-author-feed-text-2025-02-16T07:14:28.531Z\u001b[0m \u001b[36msuffix\u001b[0m=\u001b[35mzkat.tech\u001b[0m\n",
      "cursor: 2025-02-14T10:12:25.115Z\n",
      "\u001b[2m2025-04-02 22:57:49\u001b[0m [\u001b[32m\u001b[1minfo     \u001b[0m] \u001b[1mcache                         \u001b[0m \u001b[36madjective\u001b[0m=\u001b[35mhit\u001b[0m \u001b[36mkey\u001b[0m=\u001b[35mbsky.get-author-feed-text-2025-02-14T10:12:25.115Z-zkat.tech\u001b[0m \u001b[36mprefix\u001b[0m=\u001b[35mbsky.get-author-feed-text-2025-02-14T10:12:25.115Z\u001b[0m \u001b[36msuffix\u001b[0m=\u001b[35mzkat.tech\u001b[0m\n",
      "cursor: 2025-02-11T20:03:37.836Z\n",
      "\u001b[2m2025-04-02 22:57:49\u001b[0m [\u001b[32m\u001b[1minfo     \u001b[0m] \u001b[1mcache                         \u001b[0m \u001b[36madjective\u001b[0m=\u001b[35mhit\u001b[0m \u001b[36mkey\u001b[0m=\u001b[35mbsky.get-author-feed-text-2025-02-11T20:03:37.836Z-zkat.tech\u001b[0m \u001b[36mprefix\u001b[0m=\u001b[35mbsky.get-author-feed-text-2025-02-11T20:03:37.836Z\u001b[0m \u001b[36msuffix\u001b[0m=\u001b[35mzkat.tech\u001b[0m\n",
      "cursor: 2025-02-10T07:18:25.916Z\n",
      "\u001b[2m2025-04-02 22:57:49\u001b[0m [\u001b[32m\u001b[1minfo     \u001b[0m] \u001b[1mcache                         \u001b[0m \u001b[36madjective\u001b[0m=\u001b[35mhit\u001b[0m \u001b[36mkey\u001b[0m=\u001b[35mbsky.get-author-feed-text-2025-02-10T07:18:25.916Z-zkat.tech\u001b[0m \u001b[36mprefix\u001b[0m=\u001b[35mbsky.get-author-feed-text-2025-02-10T07:18:25.916Z\u001b[0m \u001b[36msuffix\u001b[0m=\u001b[35mzkat.tech\u001b[0m\n",
      "cursor: 2025-02-09T00:06:27.535Z\n",
      "\u001b[2m2025-04-02 22:57:49\u001b[0m [\u001b[32m\u001b[1minfo     \u001b[0m] \u001b[1mcache                         \u001b[0m \u001b[36madjective\u001b[0m=\u001b[35mhit\u001b[0m \u001b[36mkey\u001b[0m=\u001b[35mbsky.get-author-feed-text-2025-02-09T00:06:27.535Z-zkat.tech\u001b[0m \u001b[36mprefix\u001b[0m=\u001b[35mbsky.get-author-feed-text-2025-02-09T00:06:27.535Z\u001b[0m \u001b[36msuffix\u001b[0m=\u001b[35mzkat.tech\u001b[0m\n",
      "cursor: 2025-02-05T23:47:51.655Z\n",
      "\u001b[2m2025-04-02 22:57:49\u001b[0m [\u001b[32m\u001b[1minfo     \u001b[0m] \u001b[1mcache                         \u001b[0m \u001b[36madjective\u001b[0m=\u001b[35mhit\u001b[0m \u001b[36mkey\u001b[0m=\u001b[35mbsky.get-author-feed-text-2025-02-05T23:47:51.655Z-zkat.tech\u001b[0m \u001b[36mprefix\u001b[0m=\u001b[35mbsky.get-author-feed-text-2025-02-05T23:47:51.655Z\u001b[0m \u001b[36msuffix\u001b[0m=\u001b[35mzkat.tech\u001b[0m\n",
      "cursor: 2025-02-02T06:36:44.1Z\n",
      "\u001b[2m2025-04-02 22:57:49\u001b[0m [\u001b[32m\u001b[1minfo     \u001b[0m] \u001b[1mcache                         \u001b[0m \u001b[36madjective\u001b[0m=\u001b[35mhit\u001b[0m \u001b[36mkey\u001b[0m=\u001b[35mbsky.get-author-feed-text-2025-02-02T06:36:44.1Z-zkat.tech\u001b[0m \u001b[36mprefix\u001b[0m=\u001b[35mbsky.get-author-feed-text-2025-02-02T06:36:44.1Z\u001b[0m \u001b[36msuffix\u001b[0m=\u001b[35mzkat.tech\u001b[0m\n",
      "cursor: 2025-01-22T20:23:32.633Z\n",
      "\u001b[2m2025-04-02 22:57:49\u001b[0m [\u001b[32m\u001b[1minfo     \u001b[0m] \u001b[1mcache                         \u001b[0m \u001b[36madjective\u001b[0m=\u001b[35mhit\u001b[0m \u001b[36mkey\u001b[0m=\u001b[35mbsky.get-author-feed-text-2025-01-22T20:23:32.633Z-zkat.tech\u001b[0m \u001b[36mprefix\u001b[0m=\u001b[35mbsky.get-author-feed-text-2025-01-22T20:23:32.633Z\u001b[0m \u001b[36msuffix\u001b[0m=\u001b[35mzkat.tech\u001b[0m\n",
      "cursor: 2025-01-20T17:57:27.662Z\n",
      "\u001b[2m2025-04-02 22:57:49\u001b[0m [\u001b[32m\u001b[1minfo     \u001b[0m] \u001b[1mcache                         \u001b[0m \u001b[36madjective\u001b[0m=\u001b[35mhit\u001b[0m \u001b[36mkey\u001b[0m=\u001b[35mbsky.get-author-feed-text-2025-01-20T17:57:27.662Z-zkat.tech\u001b[0m \u001b[36mprefix\u001b[0m=\u001b[35mbsky.get-author-feed-text-2025-01-20T17:57:27.662Z\u001b[0m \u001b[36msuffix\u001b[0m=\u001b[35mzkat.tech\u001b[0m\n",
      "cursor: 2025-01-15T06:36:46.66Z\n",
      "\u001b[2m2025-04-02 22:57:49\u001b[0m [\u001b[32m\u001b[1minfo     \u001b[0m] \u001b[1mcache                         \u001b[0m \u001b[36madjective\u001b[0m=\u001b[35mhit\u001b[0m \u001b[36mkey\u001b[0m=\u001b[35mbsky.get-author-feed-text-2025-01-15T06:36:46.66Z-zkat.tech\u001b[0m \u001b[36mprefix\u001b[0m=\u001b[35mbsky.get-author-feed-text-2025-01-15T06:36:46.66Z\u001b[0m \u001b[36msuffix\u001b[0m=\u001b[35mzkat.tech\u001b[0m\n",
      "cursor: 2025-01-09T01:19:20.419Z\n"
     ]
    }
   ],
   "source": [
    "import src.bsky\n",
    "\n",
    "bsky_client = src.bsky.init()\n",
    "\n",
    "text = \"\\n\".join(await src.bsky.get_author_feed_texts(bsky_client, \"zkat.tech\", 25))"
   ]
  },
  {
   "cell_type": "code",
   "execution_count": 2,
   "id": "9a2e779a-e10d-4eb8-8782-69d025ae739e",
   "metadata": {
    "scrolled": true
   },
   "outputs": [
    {
     "name": "stderr",
     "output_type": "stream",
     "text": [
      "[nltk_data] Downloading package stopwords to /Users/kai/nltk_data...\n",
      "[nltk_data]   Package stopwords is already up-to-date!\n"
     ]
    },
    {
     "data": {
      "text/plain": [
       "True"
      ]
     },
     "execution_count": 2,
     "metadata": {},
     "output_type": "execute_result"
    }
   ],
   "source": [
    "import nltk\n",
    "import nltk.corpus\n",
    "\n",
    "nltk.download('stopwords')"
   ]
  },
  {
   "cell_type": "code",
   "execution_count": 3,
   "id": "a0c839ec-3fce-411c-9424-93b69d859843",
   "metadata": {},
   "outputs": [
    {
     "name": "stdout",
     "output_type": "stream",
     "text": [
      "Collecting en-core-web-md==3.8.0\n",
      "  Downloading https://github.com/explosion/spacy-models/releases/download/en_core_web_md-3.8.0/en_core_web_md-3.8.0-py3-none-any.whl (33.5 MB)\n",
      "\u001b[2K     \u001b[38;2;114;156;31m━━━━━━━━━━━━━━━━━━━━━━━━━━━━━━━━━━━━━━━━\u001b[0m \u001b[32m33.5/33.5 MB\u001b[0m \u001b[31m64.1 MB/s\u001b[0m eta \u001b[36m0:00:00\u001b[0m MB/s\u001b[0m eta \u001b[36m0:00:01\u001b[0m\n",
      "\u001b[?25hInstalling collected packages: en-core-web-md\n",
      "Successfully installed en-core-web-md-3.8.0\n",
      "\u001b[38;5;2m✔ Download and installation successful\u001b[0m\n",
      "You can now load the package via spacy.load('en_core_web_md')\n"
     ]
    }
   ],
   "source": [
    "import subprocess\n",
    "import spacy\n",
    "\n",
    "subprocess.run([\"spacy\", \"download\", \"en_core_web_md\"])\n",
    "nlp = spacy.load(\"en_core_web_md\")"
   ]
  },
  {
   "cell_type": "code",
   "execution_count": null,
   "id": "79d5f640-9a2d-4ba3-b7c2-af604970ec01",
   "metadata": {},
   "outputs": [],
   "source": [
    "import yake\n",
    "import nltk\n",
    "import nltk.corpus\n",
    "import spacy\n",
    "import yaml\n",
    "import pprint\n",
    "\n",
    "def remove_substring_entries(keyword_list):\n",
    "    # Sort by length of keyword (longest first), then by score (higher is better)\n",
    "    keyword_list.sort(key=lambda x: (-x[0], -len(x[1])))\n",
    "\n",
    "    filtered_keywords = []\n",
    "    seen_words = set()\n",
    "\n",
    "    for score, keyword in keyword_list:\n",
    "        words = set(keyword.split())  # Split phrase into individual words\n",
    "        if not any(word in seen_words for word in words):\n",
    "            filtered_keywords.append((score, keyword))\n",
    "            seen_words.update(words)  # Add words to seen set\n",
    "\n",
    "    return filtered_keywords\n",
    "\n",
    "with open(\"stopwords.yml\", \"r\") as _file:\n",
    "    custom_stopwords = yaml.load(_file, yaml.Loader)\n",
    "\n",
    "yake_kw_extractor = yake.KeywordExtractor(\n",
    "    lan=\"en\",\n",
    "    top=25,\n",
    "    dedupLim=1,\n",
    "    stopwords=set(nltk.corpus.stopwords.words(\"english\") + list(nlp.Defaults.stop_words) + custom_stopwords)\n",
    ")\n",
    "keywords = yake_kw_extractor.extract_keywords(text.lower())\n",
    "\n",
    "keywords = [\n",
    "    (pair[0], pair[1]) if type(pair[0]) != str else (pair[1], pair[0])\n",
    "    for pair in keywords\n",
    "] # this pair comes on in a different order depending on your operating system\n",
    "\n",
    "keywords = remove_substring_entries(keywords)\n",
    "\n",
    "print(pprint.pprint(keywords))\n",
    "\n",
    "keywords = keywords[:5]\n",
    "\n",
    "print(pprint.pprint(keywords))\n"
   ]
  },
  {
   "cell_type": "code",
   "execution_count": 17,
   "id": "506ce211-2715-43d1-b4ea-3a41364f2105",
   "metadata": {},
   "outputs": [
    {
     "name": "stdout",
     "output_type": "stream",
     "text": [
      "progress: 1 out of 5\n"
     ]
    },
    {
     "name": "stderr",
     "output_type": "stream",
     "text": [
      "/var/folders/37/h0w8431d5dqb2pjq5ws463q00000gn/T/ipykernel_1384/3200305685.py:18: UserWarning: [W008] Evaluating Doc.similarity based on empty vectors.\n",
      "  emoji_score = _keyword.similarity(_emoji) * keyword_score\n"
     ]
    },
    {
     "ename": "KeyboardInterrupt",
     "evalue": "",
     "output_type": "error",
     "traceback": [
      "\u001b[31m---------------------------------------------------------------------------\u001b[39m",
      "\u001b[31mKeyboardInterrupt\u001b[39m                         Traceback (most recent call last)",
      "\u001b[36mCell\u001b[39m\u001b[36m \u001b[39m\u001b[32mIn[17]\u001b[39m\u001b[32m, line 16\u001b[39m\n\u001b[32m     13\u001b[39m keyword_scores = []\n\u001b[32m     15\u001b[39m \u001b[38;5;28;01mfor\u001b[39;00m emoji \u001b[38;5;129;01min\u001b[39;00m emojis:\n\u001b[32m---> \u001b[39m\u001b[32m16\u001b[39m     _emoji = \u001b[43mnlp\u001b[49m\u001b[43m(\u001b[49m\u001b[43memoji\u001b[49m\u001b[43m[\u001b[49m\u001b[33;43m\"\u001b[39;49m\u001b[33;43mdescription\u001b[39;49m\u001b[33;43m\"\u001b[39;49m\u001b[43m]\u001b[49m\u001b[43m)\u001b[49m\n\u001b[32m     17\u001b[39m     keyword_score = keyword[\u001b[32m0\u001b[39m]\n\u001b[32m     18\u001b[39m     emoji_score = _keyword.similarity(_emoji) * keyword_score\n",
      "\u001b[36mFile \u001b[39m\u001b[32m~/.pyenv/versions/3.11.11/lib/python3.11/site-packages/spacy/language.py:1052\u001b[39m, in \u001b[36mLanguage.__call__\u001b[39m\u001b[34m(self, text, disable, component_cfg)\u001b[39m\n\u001b[32m   1050\u001b[39m     error_handler = proc.get_error_handler()\n\u001b[32m   1051\u001b[39m \u001b[38;5;28;01mtry\u001b[39;00m:\n\u001b[32m-> \u001b[39m\u001b[32m1052\u001b[39m     doc = \u001b[43mproc\u001b[49m\u001b[43m(\u001b[49m\u001b[43mdoc\u001b[49m\u001b[43m,\u001b[49m\u001b[43m \u001b[49m\u001b[43m*\u001b[49m\u001b[43m*\u001b[49m\u001b[43mcomponent_cfg\u001b[49m\u001b[43m.\u001b[49m\u001b[43mget\u001b[49m\u001b[43m(\u001b[49m\u001b[43mname\u001b[49m\u001b[43m,\u001b[49m\u001b[43m \u001b[49m\u001b[43m{\u001b[49m\u001b[43m}\u001b[49m\u001b[43m)\u001b[49m\u001b[43m)\u001b[49m  \u001b[38;5;66;03m# type: ignore[call-arg]\u001b[39;00m\n\u001b[32m   1053\u001b[39m \u001b[38;5;28;01mexcept\u001b[39;00m \u001b[38;5;167;01mKeyError\u001b[39;00m \u001b[38;5;28;01mas\u001b[39;00m e:\n\u001b[32m   1054\u001b[39m     \u001b[38;5;66;03m# This typically happens if a component is not initialized\u001b[39;00m\n\u001b[32m   1055\u001b[39m     \u001b[38;5;28;01mraise\u001b[39;00m \u001b[38;5;167;01mValueError\u001b[39;00m(Errors.E109.format(name=name)) \u001b[38;5;28;01mfrom\u001b[39;00m\u001b[38;5;250m \u001b[39m\u001b[34;01me\u001b[39;00m\n",
      "\u001b[36mFile \u001b[39m\u001b[32m~/.pyenv/versions/3.11.11/lib/python3.11/site-packages/spacy/pipeline/trainable_pipe.pyx:52\u001b[39m, in \u001b[36mspacy.pipeline.trainable_pipe.TrainablePipe.__call__\u001b[39m\u001b[34m()\u001b[39m\n",
      "\u001b[36mFile \u001b[39m\u001b[32m~/.pyenv/versions/3.11.11/lib/python3.11/site-packages/spacy/pipeline/tok2vec.py:126\u001b[39m, in \u001b[36mTok2Vec.predict\u001b[39m\u001b[34m(self, docs)\u001b[39m\n\u001b[32m    124\u001b[39m     width = \u001b[38;5;28mself\u001b[39m.model.get_dim(\u001b[33m\"\u001b[39m\u001b[33mnO\u001b[39m\u001b[33m\"\u001b[39m)\n\u001b[32m    125\u001b[39m     \u001b[38;5;28;01mreturn\u001b[39;00m [\u001b[38;5;28mself\u001b[39m.model.ops.alloc((\u001b[32m0\u001b[39m, width)) \u001b[38;5;28;01mfor\u001b[39;00m doc \u001b[38;5;129;01min\u001b[39;00m docs]\n\u001b[32m--> \u001b[39m\u001b[32m126\u001b[39m tokvecs = \u001b[38;5;28;43mself\u001b[39;49m\u001b[43m.\u001b[49m\u001b[43mmodel\u001b[49m\u001b[43m.\u001b[49m\u001b[43mpredict\u001b[49m\u001b[43m(\u001b[49m\u001b[43mdocs\u001b[49m\u001b[43m)\u001b[49m\n\u001b[32m    127\u001b[39m \u001b[38;5;28;01mreturn\u001b[39;00m tokvecs\n",
      "\u001b[36mFile \u001b[39m\u001b[32m~/.pyenv/versions/3.11.11/lib/python3.11/site-packages/thinc/model.py:334\u001b[39m, in \u001b[36mModel.predict\u001b[39m\u001b[34m(self, X)\u001b[39m\n\u001b[32m    330\u001b[39m \u001b[38;5;28;01mdef\u001b[39;00m\u001b[38;5;250m \u001b[39m\u001b[34mpredict\u001b[39m(\u001b[38;5;28mself\u001b[39m, X: InT) -> OutT:\n\u001b[32m    331\u001b[39m \u001b[38;5;250m    \u001b[39m\u001b[33;03m\"\"\"Call the model's `forward` function with `is_train=False`, and return\u001b[39;00m\n\u001b[32m    332\u001b[39m \u001b[33;03m    only the output, instead of the `(output, callback)` tuple.\u001b[39;00m\n\u001b[32m    333\u001b[39m \u001b[33;03m    \"\"\"\u001b[39;00m\n\u001b[32m--> \u001b[39m\u001b[32m334\u001b[39m     \u001b[38;5;28;01mreturn\u001b[39;00m \u001b[38;5;28;43mself\u001b[39;49m\u001b[43m.\u001b[49m\u001b[43m_func\u001b[49m\u001b[43m(\u001b[49m\u001b[38;5;28;43mself\u001b[39;49m\u001b[43m,\u001b[49m\u001b[43m \u001b[49m\u001b[43mX\u001b[49m\u001b[43m,\u001b[49m\u001b[43m \u001b[49m\u001b[43mis_train\u001b[49m\u001b[43m=\u001b[49m\u001b[38;5;28;43;01mFalse\u001b[39;49;00m\u001b[43m)\u001b[49m[\u001b[32m0\u001b[39m]\n",
      "\u001b[36mFile \u001b[39m\u001b[32m~/.pyenv/versions/3.11.11/lib/python3.11/site-packages/thinc/layers/chain.py:54\u001b[39m, in \u001b[36mforward\u001b[39m\u001b[34m(model, X, is_train)\u001b[39m\n\u001b[32m     52\u001b[39m callbacks = []\n\u001b[32m     53\u001b[39m \u001b[38;5;28;01mfor\u001b[39;00m layer \u001b[38;5;129;01min\u001b[39;00m model.layers:\n\u001b[32m---> \u001b[39m\u001b[32m54\u001b[39m     Y, inc_layer_grad = \u001b[43mlayer\u001b[49m\u001b[43m(\u001b[49m\u001b[43mX\u001b[49m\u001b[43m,\u001b[49m\u001b[43m \u001b[49m\u001b[43mis_train\u001b[49m\u001b[43m=\u001b[49m\u001b[43mis_train\u001b[49m\u001b[43m)\u001b[49m\n\u001b[32m     55\u001b[39m     callbacks.append(inc_layer_grad)\n\u001b[32m     56\u001b[39m     X = Y\n",
      "\u001b[36mFile \u001b[39m\u001b[32m~/.pyenv/versions/3.11.11/lib/python3.11/site-packages/thinc/model.py:310\u001b[39m, in \u001b[36mModel.__call__\u001b[39m\u001b[34m(self, X, is_train)\u001b[39m\n\u001b[32m    307\u001b[39m \u001b[38;5;28;01mdef\u001b[39;00m\u001b[38;5;250m \u001b[39m\u001b[34m__call__\u001b[39m(\u001b[38;5;28mself\u001b[39m, X: InT, is_train: \u001b[38;5;28mbool\u001b[39m) -> Tuple[OutT, Callable]:\n\u001b[32m    308\u001b[39m \u001b[38;5;250m    \u001b[39m\u001b[33;03m\"\"\"Call the model's `forward` function, returning the output and a\u001b[39;00m\n\u001b[32m    309\u001b[39m \u001b[33;03m    callback to compute the gradients via backpropagation.\"\"\"\u001b[39;00m\n\u001b[32m--> \u001b[39m\u001b[32m310\u001b[39m     \u001b[38;5;28;01mreturn\u001b[39;00m \u001b[38;5;28;43mself\u001b[39;49m\u001b[43m.\u001b[49m\u001b[43m_func\u001b[49m\u001b[43m(\u001b[49m\u001b[38;5;28;43mself\u001b[39;49m\u001b[43m,\u001b[49m\u001b[43m \u001b[49m\u001b[43mX\u001b[49m\u001b[43m,\u001b[49m\u001b[43m \u001b[49m\u001b[43mis_train\u001b[49m\u001b[43m=\u001b[49m\u001b[43mis_train\u001b[49m\u001b[43m)\u001b[49m\n",
      "\u001b[36mFile \u001b[39m\u001b[32m~/.pyenv/versions/3.11.11/lib/python3.11/site-packages/thinc/layers/chain.py:54\u001b[39m, in \u001b[36mforward\u001b[39m\u001b[34m(model, X, is_train)\u001b[39m\n\u001b[32m     52\u001b[39m callbacks = []\n\u001b[32m     53\u001b[39m \u001b[38;5;28;01mfor\u001b[39;00m layer \u001b[38;5;129;01min\u001b[39;00m model.layers:\n\u001b[32m---> \u001b[39m\u001b[32m54\u001b[39m     Y, inc_layer_grad = \u001b[43mlayer\u001b[49m\u001b[43m(\u001b[49m\u001b[43mX\u001b[49m\u001b[43m,\u001b[49m\u001b[43m \u001b[49m\u001b[43mis_train\u001b[49m\u001b[43m=\u001b[49m\u001b[43mis_train\u001b[49m\u001b[43m)\u001b[49m\n\u001b[32m     55\u001b[39m     callbacks.append(inc_layer_grad)\n\u001b[32m     56\u001b[39m     X = Y\n",
      "\u001b[36mFile \u001b[39m\u001b[32m~/.pyenv/versions/3.11.11/lib/python3.11/site-packages/thinc/model.py:310\u001b[39m, in \u001b[36mModel.__call__\u001b[39m\u001b[34m(self, X, is_train)\u001b[39m\n\u001b[32m    307\u001b[39m \u001b[38;5;28;01mdef\u001b[39;00m\u001b[38;5;250m \u001b[39m\u001b[34m__call__\u001b[39m(\u001b[38;5;28mself\u001b[39m, X: InT, is_train: \u001b[38;5;28mbool\u001b[39m) -> Tuple[OutT, Callable]:\n\u001b[32m    308\u001b[39m \u001b[38;5;250m    \u001b[39m\u001b[33;03m\"\"\"Call the model's `forward` function, returning the output and a\u001b[39;00m\n\u001b[32m    309\u001b[39m \u001b[33;03m    callback to compute the gradients via backpropagation.\"\"\"\u001b[39;00m\n\u001b[32m--> \u001b[39m\u001b[32m310\u001b[39m     \u001b[38;5;28;01mreturn\u001b[39;00m \u001b[38;5;28;43mself\u001b[39;49m\u001b[43m.\u001b[49m\u001b[43m_func\u001b[49m\u001b[43m(\u001b[49m\u001b[38;5;28;43mself\u001b[39;49m\u001b[43m,\u001b[49m\u001b[43m \u001b[49m\u001b[43mX\u001b[49m\u001b[43m,\u001b[49m\u001b[43m \u001b[49m\u001b[43mis_train\u001b[49m\u001b[43m=\u001b[49m\u001b[43mis_train\u001b[49m\u001b[43m)\u001b[49m\n",
      "\u001b[36mFile \u001b[39m\u001b[32m~/.pyenv/versions/3.11.11/lib/python3.11/site-packages/thinc/layers/concatenate.py:62\u001b[39m, in \u001b[36mforward\u001b[39m\u001b[34m(model, X, is_train)\u001b[39m\n\u001b[32m     60\u001b[39m     \u001b[38;5;28;01mreturn\u001b[39;00m cast(OutT, data_l), backprop\n\u001b[32m     61\u001b[39m \u001b[38;5;28;01melif\u001b[39;00m \u001b[38;5;28misinstance\u001b[39m(Ys[\u001b[32m0\u001b[39m], Ragged):\n\u001b[32m---> \u001b[39m\u001b[32m62\u001b[39m     data_r, backprop = \u001b[43m_ragged_forward\u001b[49m\u001b[43m(\u001b[49m\u001b[43mmodel\u001b[49m\u001b[43m,\u001b[49m\u001b[43m \u001b[49m\u001b[43mX\u001b[49m\u001b[43m,\u001b[49m\u001b[43m \u001b[49m\u001b[43mYs\u001b[49m\u001b[43m,\u001b[49m\u001b[43m \u001b[49m\u001b[43mcallbacks\u001b[49m\u001b[43m,\u001b[49m\u001b[43m \u001b[49m\u001b[43mis_train\u001b[49m\u001b[43m)\u001b[49m\n\u001b[32m     63\u001b[39m     \u001b[38;5;28;01mreturn\u001b[39;00m cast(OutT, data_r), backprop\n\u001b[32m     64\u001b[39m \u001b[38;5;28;01melse\u001b[39;00m:\n",
      "\u001b[36mFile \u001b[39m\u001b[32m~/.pyenv/versions/3.11.11/lib/python3.11/site-packages/thinc/layers/concatenate.py:101\u001b[39m, in \u001b[36m_ragged_forward\u001b[39m\u001b[34m(model, X, Ys, callbacks, is_train)\u001b[39m\n\u001b[32m     96\u001b[39m \u001b[38;5;28;01mdef\u001b[39;00m\u001b[38;5;250m \u001b[39m\u001b[34m_ragged_forward\u001b[39m(\n\u001b[32m     97\u001b[39m     model: Model[InT, OutT], X, Ys: List, callbacks, is_train: \u001b[38;5;28mbool\u001b[39m\n\u001b[32m     98\u001b[39m ) -> Tuple[Ragged, Callable]:\n\u001b[32m    100\u001b[39m     widths = [Y.dataXd.shape[\u001b[32m1\u001b[39m] \u001b[38;5;28;01mfor\u001b[39;00m Y \u001b[38;5;129;01min\u001b[39;00m Ys]\n\u001b[32m--> \u001b[39m\u001b[32m101\u001b[39m     output = Ragged(\u001b[43mmodel\u001b[49m\u001b[43m.\u001b[49m\u001b[43mops\u001b[49m\u001b[43m.\u001b[49m\u001b[43mxp\u001b[49m\u001b[43m.\u001b[49m\u001b[43mhstack\u001b[49m\u001b[43m(\u001b[49m\u001b[43m[\u001b[49m\u001b[43my\u001b[49m\u001b[43m.\u001b[49m\u001b[43mdata\u001b[49m\u001b[43m \u001b[49m\u001b[38;5;28;43;01mfor\u001b[39;49;00m\u001b[43m \u001b[49m\u001b[43my\u001b[49m\u001b[43m \u001b[49m\u001b[38;5;129;43;01min\u001b[39;49;00m\u001b[43m \u001b[49m\u001b[43mYs\u001b[49m\u001b[43m]\u001b[49m\u001b[43m)\u001b[49m, Ys[\u001b[32m0\u001b[39m].lengths)\n\u001b[32m    103\u001b[39m     \u001b[38;5;28;01mdef\u001b[39;00m\u001b[38;5;250m \u001b[39m\u001b[34mbackprop\u001b[39m(d_output: Ragged) -> InT:\n\u001b[32m    104\u001b[39m         d_array = d_output.data\n",
      "\u001b[36mFile \u001b[39m\u001b[32m~/.pyenv/versions/3.11.11/lib/python3.11/site-packages/numpy/core/shape_base.py:359\u001b[39m, in \u001b[36mhstack\u001b[39m\u001b[34m(tup, dtype, casting)\u001b[39m\n\u001b[32m    357\u001b[39m     \u001b[38;5;28;01mreturn\u001b[39;00m _nx.concatenate(arrs, \u001b[32m0\u001b[39m, dtype=dtype, casting=casting)\n\u001b[32m    358\u001b[39m \u001b[38;5;28;01melse\u001b[39;00m:\n\u001b[32m--> \u001b[39m\u001b[32m359\u001b[39m     \u001b[38;5;28;01mreturn\u001b[39;00m \u001b[43m_nx\u001b[49m\u001b[43m.\u001b[49m\u001b[43mconcatenate\u001b[49m\u001b[43m(\u001b[49m\u001b[43marrs\u001b[49m\u001b[43m,\u001b[49m\u001b[43m \u001b[49m\u001b[32;43m1\u001b[39;49m\u001b[43m,\u001b[49m\u001b[43m \u001b[49m\u001b[43mdtype\u001b[49m\u001b[43m=\u001b[49m\u001b[43mdtype\u001b[49m\u001b[43m,\u001b[49m\u001b[43m \u001b[49m\u001b[43mcasting\u001b[49m\u001b[43m=\u001b[49m\u001b[43mcasting\u001b[49m\u001b[43m)\u001b[49m\n",
      "\u001b[31mKeyboardInterrupt\u001b[39m: "
     ]
    }
   ],
   "source": [
    "import spacy\n",
    "import json\n",
    "\n",
    "with open(\"emojis.json\", \"r\") as _file:\n",
    "    emojis = json.loads(_file.read())\n",
    "\n",
    "emoji_scores = []\n",
    "\n",
    "i = 1\n",
    "for keyword in keywords:\n",
    "    print(f\"progress: {i} out of {len(keywords)}\")\n",
    "    _keyword = nlp(keyword[1])\n",
    "    keyword_scores = []\n",
    "    \n",
    "    for emoji in emojis:\n",
    "        _emoji = nlp(emoji[\"description\"])\n",
    "        keyword_score = keyword[0]\n",
    "        emoji_score = _keyword.similarity(_emoji) * keyword_score\n",
    "        keyword_scores.append([_keyword, emoji_score])\n",
    "\n",
    "    print(keyword_scores[0])\n",
    "    print(keyword_scores[-1])\n",
    "    keyword_scores.sort(key = lambda x: -x[1])\n",
    "    emoji_scores.append(keyword_scores[0])\n",
    "    i += 1\n",
    "\n",
    "emoji_scores.sort(key = lambda x: -x[1])"
   ]
  },
  {
   "cell_type": "code",
   "execution_count": null,
   "id": "00dcf67d-ce2e-4c5e-89c2-b934af2eb155",
   "metadata": {},
   "outputs": [],
   "source": []
  }
 ],
 "metadata": {
  "kernelspec": {
   "display_name": "Python 3 (ipykernel)",
   "language": "python",
   "name": "python3"
  },
  "language_info": {
   "codemirror_mode": {
    "name": "ipython",
    "version": 3
   },
   "file_extension": ".py",
   "mimetype": "text/x-python",
   "name": "python",
   "nbconvert_exporter": "python",
   "pygments_lexer": "ipython3",
   "version": "3.11.11"
  }
 },
 "nbformat": 4,
 "nbformat_minor": 5
}
